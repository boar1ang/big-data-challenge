{
  "nbformat": 4,
  "nbformat_minor": 0,
  "metadata": {
    "colab": {
      "name": "Amzn_OfficeProds.ipynb",
      "provenance": [],
      "collapsed_sections": [],
      "authorship_tag": "ABX9TyOpi3Iiwktic4H6BIbPWo/j",
      "include_colab_link": true
    },
    "kernelspec": {
      "name": "python3",
      "display_name": "Python 3"
    }
  },
  "cells": [
    {
      "cell_type": "markdown",
      "metadata": {
        "id": "view-in-github",
        "colab_type": "text"
      },
      "source": [
        "<a href=\"https://colab.research.google.com/github/boar1ang/big-data-challenge/blob/master/Amzn_OfficeProds.ipynb\" target=\"_parent\"><img src=\"https://colab.research.google.com/assets/colab-badge.svg\" alt=\"Open In Colab\"/></a>"
      ]
    },
    {
      "cell_type": "code",
      "metadata": {
        "id": "nSh4jzI6mbk-",
        "colab_type": "code",
        "colab": {}
      },
      "source": [
        "# Install Java, Spark, and Findspark\n",
        "!apt-get install openjdk-8-jdk-headless -qq > /dev/null\n",
        "!wget -q http://www-us.apache.org/dist/spark/spark-2.4.5/spark-2.4.5-bin-hadoop2.7.tgz\n",
        "!tar xf spark-2.4.5-bin-hadoop2.7.tgz\n",
        "!pip install -q findspark\n",
        "\n",
        "# Set Environment Variables\n",
        "import os\n",
        "os.environ[\"JAVA_HOME\"] = \"/usr/lib/jvm/java-8-openjdk-amd64\"\n",
        "os.environ[\"SPARK_HOME\"] = \"/content/spark-2.4.5-bin-hadoop2.7\"\n",
        "\n",
        "# Start a SparkSession\n",
        "import findspark\n",
        "findspark.init()\n"
      ],
      "execution_count": 0,
      "outputs": []
    },
    {
      "cell_type": "code",
      "metadata": {
        "id": "LdJGHEn9Vfpe",
        "colab_type": "code",
        "outputId": "42725621-2385-45e3-f481-adfe97594b5f",
        "colab": {
          "base_uri": "https://localhost:8080/",
          "height": 202
        }
      },
      "source": [
        "!wget https://jdbc.postgresql.org/download/postgresql-42.2.9.jar"
      ],
      "execution_count": 40,
      "outputs": [
        {
          "output_type": "stream",
          "text": [
            "--2020-05-15 21:55:49--  https://jdbc.postgresql.org/download/postgresql-42.2.9.jar\n",
            "Resolving jdbc.postgresql.org (jdbc.postgresql.org)... 72.32.157.228, 2001:4800:3e1:1::228\n",
            "Connecting to jdbc.postgresql.org (jdbc.postgresql.org)|72.32.157.228|:443... connected.\n",
            "HTTP request sent, awaiting response... 200 OK\n",
            "Length: 914037 (893K) [application/java-archive]\n",
            "Saving to: ‘postgresql-42.2.9.jar.2’\n",
            "\n",
            "\rpostgresql-42.2.9.j   0%[                    ]       0  --.-KB/s               \rpostgresql-42.2.9.j 100%[===================>] 892.61K  --.-KB/s    in 0.1s    \n",
            "\n",
            "2020-05-15 21:55:49 (8.53 MB/s) - ‘postgresql-42.2.9.jar.2’ saved [914037/914037]\n",
            "\n"
          ],
          "name": "stdout"
        }
      ]
    },
    {
      "cell_type": "code",
      "metadata": {
        "id": "jsuVWa7nnDwt",
        "colab_type": "code",
        "colab": {}
      },
      "source": [
        "# Start Spark session\n",
        "from pyspark.sql import SparkSession\n",
        "spark = SparkSession.builder.appName(\"Amzn_OfficeProds\").config(\"spark.driver.extraClassPath\",\"/content/postgresql-42.2.9.jar\").getOrCreate()"
      ],
      "execution_count": 0,
      "outputs": []
    },
    {
      "cell_type": "code",
      "metadata": {
        "id": "1myv8_aZnQ3Q",
        "colab_type": "code",
        "outputId": "579614af-8a2b-4638-e496-7209311d4dd9",
        "colab": {
          "base_uri": "https://localhost:8080/",
          "height": 306
        }
      },
      "source": [
        "# Read in data from S3 Buckets\n",
        "from pyspark import SparkFiles\n",
        "url =\"https://s3.amazonaws.com/amazon-reviews-pds/tsv/amazon_reviews_us_Office_Products_v1_00.tsv.gz\"\n",
        "spark.sparkContext.addFile(url)\n",
        "office_prods_df = spark.read.csv(SparkFiles.get(\"amazon_reviews_us_Office_Products_v1_00.tsv.gz\"), sep=\"\\t\", header=True)\n",
        "\n",
        "\n",
        "# Show DataFrame\n",
        "office_prods_df.show(10)"
      ],
      "execution_count": 42,
      "outputs": [
        {
          "output_type": "stream",
          "text": [
            "+-----------+-----------+--------------+----------+--------------+--------------------+----------------+-----------+-------------+-----------+----+-----------------+--------------------+--------------------+-----------+\n",
            "|marketplace|customer_id|     review_id|product_id|product_parent|       product_title|product_category|star_rating|helpful_votes|total_votes|vine|verified_purchase|     review_headline|         review_body|review_date|\n",
            "+-----------+-----------+--------------+----------+--------------+--------------------+----------------+-----------+-------------+-----------+----+-----------------+--------------------+--------------------+-----------+\n",
            "|         US|   43081963|R18RVCKGH1SSI9|B001BM2MAC|     307809868|Scotch Cushion Wr...| Office Products|          5|            0|          0|   N|                Y|          Five Stars|      Great product.| 2015-08-31|\n",
            "|         US|   10951564|R3L4L6LW1PUOFY|B00DZYEXPQ|      75004341|Dust-Off Compress...| Office Products|          5|            0|          1|   N|                Y|Phffffffft, Phfff...|What's to say abo...| 2015-08-31|\n",
            "|         US|   21143145|R2J8AWXWTDX2TF|B00RTMUHDW|     529689027|Amram Tagger Stan...| Office Products|          5|            0|          0|   N|                Y|but I am sure I w...|Haven't used yet,...| 2015-08-31|\n",
            "|         US|   52782374|R1PR37BR7G3M6A|B00D7H8XB6|     868449945|AmazonBasics 12-S...| Office Products|          1|            2|          3|   N|                Y|and the shredder ...|Although this was...| 2015-08-31|\n",
            "|         US|   24045652|R3BDDDZMZBZDPU|B001XCWP34|      33521401|Derwent Colored P...| Office Products|          4|            0|          0|   N|                Y|          Four Stars|Gorgeous colors a...| 2015-08-31|\n",
            "|         US|   21751234| R8T6MO75ND212|B004J2NBCO|     214932869|Quartet Magnetic ...| Office Products|          5|            0|          0|   N|                Y|          Five Stars|Perfect for plann...| 2015-08-31|\n",
            "|         US|    9109358|R2YWMQT2V11XYZ|B00MOPAG8K|     863351797|KITLEX40X2592UNV2...| Office Products|          5|            0|          0|   N|                N|          Five Stars|Gold plated fuser...| 2015-08-31|\n",
            "|         US|    9967215|R1V2HYL6OI9V39|B003AHIK7U|     383470576|Bible Dry Highlig...| Office Products|          5|            6|          6|   N|                Y|Won't bleed throu...|I have used these...| 2015-08-31|\n",
            "|         US|   11234247|R3BLQBKUNXGFS4|B006TKH2RO|     999128878|Parker Ingenuity ...| Office Products|          5|            0|          0|   N|                Y|           Nice pen!|Heavy pen that wr...| 2015-08-31|\n",
            "|         US|   12731488|R17MOWJCAR9Y8Q|B00W61M9K0|     622066861| RFID Card Protector| Office Products|          5|            0|          0|   N|                Y| Credit card sleeves|Not sure if they ...| 2015-08-31|\n",
            "+-----------+-----------+--------------+----------+--------------+--------------------+----------------+-----------+-------------+-----------+----+-----------------+--------------------+--------------------+-----------+\n",
            "only showing top 10 rows\n",
            "\n"
          ],
          "name": "stdout"
        }
      ]
    },
    {
      "cell_type": "code",
      "metadata": {
        "id": "QKRY7uW5iIGT",
        "colab_type": "code",
        "outputId": "24c18351-fca9-4354-86d9-8b9dcd098fc2",
        "colab": {
          "base_uri": "https://localhost:8080/",
          "height": 54
        }
      },
      "source": [
        "office_prods_df.describe()"
      ],
      "execution_count": 43,
      "outputs": [
        {
          "output_type": "execute_result",
          "data": {
            "text/plain": [
              "DataFrame[summary: string, marketplace: string, customer_id: string, review_id: string, product_id: string, product_parent: string, product_title: string, product_category: string, star_rating: string, helpful_votes: string, total_votes: string, vine: string, verified_purchase: string, review_headline: string, review_body: string, review_date: string]"
            ]
          },
          "metadata": {
            "tags": []
          },
          "execution_count": 43
        }
      ]
    },
    {
      "cell_type": "markdown",
      "metadata": {
        "id": "7agb5IpiIrd7",
        "colab_type": "text"
      },
      "source": [
        "Clean up"
      ]
    },
    {
      "cell_type": "code",
      "metadata": {
        "id": "OshB59s6XWqQ",
        "colab_type": "code",
        "outputId": "f2105f09-abc3-4a96-eae1-ac4aa240ea7d",
        "colab": {
          "base_uri": "https://localhost:8080/",
          "height": 67
        }
      },
      "source": [
        "print(office_prods_df.count())\n",
        "office_prods_df = office_prods_df.dropna()\n",
        "print(office_prods_df.count())\n",
        "office_prods_df = office_prods_df.dropDuplicates()\n",
        "print(office_prods_df.count())"
      ],
      "execution_count": 44,
      "outputs": [
        {
          "output_type": "stream",
          "text": [
            "2642434\n",
            "2642195\n",
            "2642195\n"
          ],
          "name": "stdout"
        }
      ]
    },
    {
      "cell_type": "markdown",
      "metadata": {
        "id": "8-dgdwoCIJdm",
        "colab_type": "text"
      },
      "source": [
        "Filter out reviews on unverified purchases"
      ]
    },
    {
      "cell_type": "code",
      "metadata": {
        "id": "iwQxwDtiiT3a",
        "colab_type": "code",
        "outputId": "311095b7-bbda-42e5-ed05-c93f549f89dc",
        "colab": {
          "base_uri": "https://localhost:8080/",
          "height": 222
        }
      },
      "source": [
        "# Load sql column function\n",
        "from pyspark.sql.functions import col\n",
        "\n",
        "# Filter for only columns with verified purchases\n",
        "office_prods_df = office_prods_df.filter(col(\"verified_purchase\")  == 'Y')\n",
        "office_prods_df.show(5)"
      ],
      "execution_count": 45,
      "outputs": [
        {
          "output_type": "stream",
          "text": [
            "+-----------+-----------+--------------+----------+--------------+--------------------+----------------+-----------+-------------+-----------+----+-----------------+--------------------+--------------------+-----------+\n",
            "|marketplace|customer_id|     review_id|product_id|product_parent|       product_title|product_category|star_rating|helpful_votes|total_votes|vine|verified_purchase|     review_headline|         review_body|review_date|\n",
            "+-----------+-----------+--------------+----------+--------------+--------------------+----------------+-----------+-------------+-----------+----+-----------------+--------------------+--------------------+-----------+\n",
            "|         US|   14928712|R100TJO6JFCAMT|B004TU0IC2|     137501734|1 LEXMARK TONER R...| Office Products|          5|            0|          0|   N|                Y|Works perfectly, ...|Item as described...| 2013-07-19|\n",
            "|         US|   12999038|R100Y1XN4A4F4V|B0055MI230|     305431275|Canon CLI-226 3 C...| Office Products|          5|            0|          0|   N|                Y|          Five Stars|As described and ...| 2015-06-19|\n",
            "|         US|   19095535|R100YGDYQ4Z1D3|B0039OWAZC|     110562620|50 Blank Greeting...| Office Products|          4|            0|          0|   N|                Y|Great for at home...|I used these to p...| 2012-07-31|\n",
            "|         US|   20715457|R1028UG5FPCGDR|B000IGMB5I|      76268412|Cross Classic Cen...| Office Products|          5|            0|          0|   N|                Y|            Good Pen|I like the brush ...| 2013-05-04|\n",
            "|         US|   14690372|R1031OV54Z62RO|B008HBFADQ|     365473002|Fujitsu ScanSnap ...| Office Products|          5|            1|          1|   N|                Y|Great document sc...|Great scanner for...| 2013-05-28|\n",
            "+-----------+-----------+--------------+----------+--------------+--------------------+----------------+-----------+-------------+-----------+----+-----------------+--------------------+--------------------+-----------+\n",
            "only showing top 5 rows\n",
            "\n"
          ],
          "name": "stdout"
        }
      ]
    },
    {
      "cell_type": "code",
      "metadata": {
        "id": "fbWRaXZBNZ-F",
        "colab_type": "code",
        "outputId": "495fef4d-59b0-41ba-e7b4-541e74d68541",
        "colab": {
          "base_uri": "https://localhost:8080/",
          "height": 34
        }
      },
      "source": [
        "print(office_prods_df.count())"
      ],
      "execution_count": 46,
      "outputs": [
        {
          "output_type": "stream",
          "text": [
            "2257685\n"
          ],
          "name": "stdout"
        }
      ]
    },
    {
      "cell_type": "markdown",
      "metadata": {
        "id": "adtFu4TPPpS5",
        "colab_type": "text"
      },
      "source": [
        "Cleaning resulted in 384,749 fewer rows"
      ]
    },
    {
      "cell_type": "markdown",
      "metadata": {
        "id": "xBdk_Q8PGaBu",
        "colab_type": "text"
      },
      "source": [
        "Reduce DataFrame by dropping unnecessary columns and splitting 'review' data off from 'product' data"
      ]
    },
    {
      "cell_type": "code",
      "metadata": {
        "id": "zaCrItPue98O",
        "colab_type": "code",
        "outputId": "673ac0f8-8938-445f-a1b9-9f450fd9d4f2",
        "colab": {
          "base_uri": "https://localhost:8080/",
          "height": 222
        }
      },
      "source": [
        "ver_OffProdReviews_df = office_prods_df.select([\"customer_id\", \"review_id\", \"product_id\", \"product_parent\", \"product_title\", \"product_category\", \"star_rating\", \"helpful_votes\", \"total_votes\", \"vine\", \"review_headline\", \"review_body\", \"review_date\" ])\n",
        "ver_OffProdReviews_df.show(5)"
      ],
      "execution_count": 47,
      "outputs": [
        {
          "output_type": "stream",
          "text": [
            "+-----------+--------------+----------+--------------+--------------------+----------------+-----------+-------------+-----------+----+--------------------+--------------------+-----------+\n",
            "|customer_id|     review_id|product_id|product_parent|       product_title|product_category|star_rating|helpful_votes|total_votes|vine|     review_headline|         review_body|review_date|\n",
            "+-----------+--------------+----------+--------------+--------------------+----------------+-----------+-------------+-----------+----+--------------------+--------------------+-----------+\n",
            "|   14928712|R100TJO6JFCAMT|B004TU0IC2|     137501734|1 LEXMARK TONER R...| Office Products|          5|            0|          0|   N|Works perfectly, ...|Item as described...| 2013-07-19|\n",
            "|   12999038|R100Y1XN4A4F4V|B0055MI230|     305431275|Canon CLI-226 3 C...| Office Products|          5|            0|          0|   N|          Five Stars|As described and ...| 2015-06-19|\n",
            "|   19095535|R100YGDYQ4Z1D3|B0039OWAZC|     110562620|50 Blank Greeting...| Office Products|          4|            0|          0|   N|Great for at home...|I used these to p...| 2012-07-31|\n",
            "|   20715457|R1028UG5FPCGDR|B000IGMB5I|      76268412|Cross Classic Cen...| Office Products|          5|            0|          0|   N|            Good Pen|I like the brush ...| 2013-05-04|\n",
            "|   14690372|R1031OV54Z62RO|B008HBFADQ|     365473002|Fujitsu ScanSnap ...| Office Products|          5|            1|          1|   N|Great document sc...|Great scanner for...| 2013-05-28|\n",
            "+-----------+--------------+----------+--------------+--------------------+----------------+-----------+-------------+-----------+----+--------------------+--------------------+-----------+\n",
            "only showing top 5 rows\n",
            "\n"
          ],
          "name": "stdout"
        }
      ]
    },
    {
      "cell_type": "code",
      "metadata": {
        "id": "MDwekVU-V5Nl",
        "colab_type": "code",
        "outputId": "ce365c9d-2246-4368-8af6-19a294057bdb",
        "colab": {
          "base_uri": "https://localhost:8080/",
          "height": 202
        }
      },
      "source": [
        "products_reviewed_df = office_prods_df.select([\"product_id\", \"product_parent\", \"product_title\", \"product_category\", \"review_id\"])\n",
        "products_reviewed_df.show(5)"
      ],
      "execution_count": 48,
      "outputs": [
        {
          "output_type": "stream",
          "text": [
            "+----------+--------------+--------------------+----------------+--------------+\n",
            "|product_id|product_parent|       product_title|product_category|     review_id|\n",
            "+----------+--------------+--------------------+----------------+--------------+\n",
            "|B004TU0IC2|     137501734|1 LEXMARK TONER R...| Office Products|R100TJO6JFCAMT|\n",
            "|B0055MI230|     305431275|Canon CLI-226 3 C...| Office Products|R100Y1XN4A4F4V|\n",
            "|B0039OWAZC|     110562620|50 Blank Greeting...| Office Products|R100YGDYQ4Z1D3|\n",
            "|B000IGMB5I|      76268412|Cross Classic Cen...| Office Products|R1028UG5FPCGDR|\n",
            "|B008HBFADQ|     365473002|Fujitsu ScanSnap ...| Office Products|R1031OV54Z62RO|\n",
            "+----------+--------------+--------------------+----------------+--------------+\n",
            "only showing top 5 rows\n",
            "\n"
          ],
          "name": "stdout"
        }
      ]
    },
    {
      "cell_type": "code",
      "metadata": {
        "id": "DUKlzOoJV5nS",
        "colab_type": "code",
        "outputId": "a4dcdd68-a61c-4868-f781-b2d7d69cf675",
        "colab": {
          "base_uri": "https://localhost:8080/",
          "height": 202
        }
      },
      "source": [
        "reviews_df = ver_OffProdReviews_df.select([\"review_id\", \"star_rating\", \"helpful_votes\", \"total_votes\", \"vine\", \"review_headline\", \"review_body\", \"review_date\", \"customer_id\"])\n",
        "reviews_df.show(5)"
      ],
      "execution_count": 49,
      "outputs": [
        {
          "output_type": "stream",
          "text": [
            "+--------------+-----------+-------------+-----------+----+--------------------+--------------------+-----------+-----------+\n",
            "|     review_id|star_rating|helpful_votes|total_votes|vine|     review_headline|         review_body|review_date|customer_id|\n",
            "+--------------+-----------+-------------+-----------+----+--------------------+--------------------+-----------+-----------+\n",
            "|R100TJO6JFCAMT|          5|            0|          0|   N|Works perfectly, ...|Item as described...| 2013-07-19|   14928712|\n",
            "|R100Y1XN4A4F4V|          5|            0|          0|   N|          Five Stars|As described and ...| 2015-06-19|   12999038|\n",
            "|R100YGDYQ4Z1D3|          4|            0|          0|   N|Great for at home...|I used these to p...| 2012-07-31|   19095535|\n",
            "|R1028UG5FPCGDR|          5|            0|          0|   N|            Good Pen|I like the brush ...| 2013-05-04|   20715457|\n",
            "|R1031OV54Z62RO|          5|            1|          1|   N|Great document sc...|Great scanner for...| 2013-05-28|   14690372|\n",
            "+--------------+-----------+-------------+-----------+----+--------------------+--------------------+-----------+-----------+\n",
            "only showing top 5 rows\n",
            "\n"
          ],
          "name": "stdout"
        }
      ]
    },
    {
      "cell_type": "markdown",
      "metadata": {
        "id": "7LkITcPGcF43",
        "colab_type": "text"
      },
      "source": [
        "Limit to reviews of verified purchases"
      ]
    },
    {
      "cell_type": "code",
      "metadata": {
        "id": "AV2EUgWYUMhP",
        "colab_type": "code",
        "outputId": "9e2e31be-b63b-4c1d-cd73-08628ed9a583",
        "colab": {
          "base_uri": "https://localhost:8080/",
          "height": 34
        }
      },
      "source": [
        "from pyspark.sql.functions import countDistinct\n",
        "unique_prods = products_reviewed_df.agg(countDistinct(\"product_id\")).collect()\n",
        "unique_prods"
      ],
      "execution_count": 50,
      "outputs": [
        {
          "output_type": "execute_result",
          "data": {
            "text/plain": [
              "[Row(count(DISTINCT product_id)=283442)]"
            ]
          },
          "metadata": {
            "tags": []
          },
          "execution_count": 50
        }
      ]
    },
    {
      "cell_type": "code",
      "metadata": {
        "id": "wTVIgzZbEAS8",
        "colab_type": "code",
        "outputId": "04fdfb2b-5fd7-4ced-d1a0-077083cf94f5",
        "colab": {
          "base_uri": "https://localhost:8080/",
          "height": 54
        }
      },
      "source": [
        "from pyspark.sql.functions import expr\n",
        "reviews_df = reviews_df.withColumn(\"star_rating\", reviews_df.star_rating.cast(\"int\"))\n",
        "reviews_df.describe()"
      ],
      "execution_count": 51,
      "outputs": [
        {
          "output_type": "execute_result",
          "data": {
            "text/plain": [
              "DataFrame[summary: string, review_id: string, star_rating: string, helpful_votes: string, total_votes: string, vine: string, review_headline: string, review_body: string, review_date: string, customer_id: string]"
            ]
          },
          "metadata": {
            "tags": []
          },
          "execution_count": 51
        }
      ]
    },
    {
      "cell_type": "code",
      "metadata": {
        "id": "OWdUc76st1WL",
        "colab_type": "code",
        "colab": {}
      },
      "source": [
        "import pandas as pd\n",
        "# reviews_df = pd.to_numeric(reviews_df['star_rating'], errors='coerce')"
      ],
      "execution_count": 0,
      "outputs": []
    },
    {
      "cell_type": "code",
      "metadata": {
        "colab_type": "code",
        "outputId": "7ed60455-8d3b-401c-9cd7-4988d05c2693",
        "id": "Wxegz-1DfJxZ",
        "colab": {
          "base_uri": "https://localhost:8080/",
          "height": 185
        }
      },
      "source": [
        "rating_dist = reviews_df.groupBy(\"star_rating\")\\\n",
        "  .count()\\\n",
        "  .show()\n"
      ],
      "execution_count": 53,
      "outputs": [
        {
          "output_type": "stream",
          "text": [
            "+-----------+-------+\n",
            "|star_rating|  count|\n",
            "+-----------+-------+\n",
            "|          1| 227706|\n",
            "|          3| 162984|\n",
            "|          5|1401812|\n",
            "|          4| 355438|\n",
            "|          2| 109745|\n",
            "+-----------+-------+\n",
            "\n"
          ],
          "name": "stdout"
        }
      ]
    },
    {
      "cell_type": "code",
      "metadata": {
        "id": "dGYR2RWosg0i",
        "colab_type": "code",
        "outputId": "7497a069-8f67-4364-ff63-b51560f7264d",
        "colab": {
          "base_uri": "https://localhost:8080/",
          "height": 34
        }
      },
      "source": [
        "rating_dist_df = pd.DataFrame(rating_dist)\n",
        "rating_dist_df.dtypes"
      ],
      "execution_count": 54,
      "outputs": [
        {
          "output_type": "execute_result",
          "data": {
            "text/plain": [
              "Series([], dtype: object)"
            ]
          },
          "metadata": {
            "tags": []
          },
          "execution_count": 54
        }
      ]
    },
    {
      "cell_type": "code",
      "metadata": {
        "id": "lPTuZfGPr-pG",
        "colab_type": "code",
        "colab": {}
      },
      "source": [
        "# rating_dist_df = rating_dist.to_frame() \n",
        "# rating_dist_df = rating_dist_df.rename(columns={\"star_rating\", \"count\"})\n",
        "# rating_dist_df"
      ],
      "execution_count": 0,
      "outputs": []
    },
    {
      "cell_type": "code",
      "metadata": {
        "id": "sVzMNntCi3Tu",
        "colab_type": "code",
        "outputId": "6e9dc2fb-5c8c-4ef8-bd54-f447442d4fa9",
        "colab": {
          "base_uri": "https://localhost:8080/",
          "height": 265
        }
      },
      "source": [
        "%matplotlib inline\n",
        "import matplotlib as mpl\n",
        "import matplotlib.pyplot as plt\n",
        "# plt.style.use('classic')\n",
        "\n",
        "plt.hist(rating_dist_df)\n",
        "plt.show()\n",
        "# ['star_rating'] = reviews_df['star_rating'].astype(int)"
      ],
      "execution_count": 56,
      "outputs": [
        {
          "output_type": "display_data",
          "data": {
            "image/png": "[encoded data removed]",
            "text/plain": [
              "<Figure size 432x288 with 1 Axes>"
            ]
          },
          "metadata": {
            "tags": [],
            "needs_background": "light"
          }
        }
      ]
    },
    {
      "cell_type": "markdown",
      "metadata": {
        "id": "jbcjuySya6X4",
        "colab_type": "text"
      },
      "source": [
        "Count of unique office products = 283,442"
      ]
    },
    {
      "cell_type": "code",
      "metadata": {
        "id": "6T9m3pDUW-3O",
        "colab_type": "code",
        "outputId": "1ab5ed97-2106-4a31-9006-5ecc1824b1f0",
        "colab": {
          "base_uri": "https://localhost:8080/",
          "height": 34
        }
      },
      "source": [
        "print(pd.__version__)"
      ],
      "execution_count": 59,
      "outputs": [
        {
          "output_type": "stream",
          "text": [
            "1.0.3\n"
          ],
          "name": "stdout"
        }
      ]
    },
    {
      "cell_type": "markdown",
      "metadata": {
        "id": "-A7EnzXfXLMr",
        "colab_type": "text"
      },
      "source": [
        "Postgres Setup"
      ]
    },
    {
      "cell_type": "code",
      "metadata": {
        "id": "OYAxu7-RobXd",
        "colab_type": "code",
        "colab": {}
      },
      "source": [
        "#Configure setting for Amazon RDS\n",
        "mode=\"append\"\n",
        "jdbc_url = \"jdbc:postgresql://myaws-postgres.cg43u4ybmrtw.us-east-1.rds.amazonaws.com:5432/my_amzn_reviews_db\"\n",
        "config= {\"user\": \"root\",\n",
        "         \"password\": \"20200510\",\n",
        "         \"driver\": \"org.postgresql.Driver\"}"
      ],
      "execution_count": 0,
      "outputs": []
    },
    {
      "cell_type": "markdown",
      "metadata": {
        "id": "wA2yPEsgW75k",
        "colab_type": "text"
      },
      "source": [
        "Write dataframes to target tables in my_amzn_reviews_db"
      ]
    },
    {
      "cell_type": "code",
      "metadata": {
        "id": "3mwxIsOQWr4p",
        "colab_type": "code",
        "colab": {}
      },
      "source": [
        "reviews_df.write.jdbc(url=jdbc_url, table=\"reviews\", mode=mode, properties=config)"
      ],
      "execution_count": 0,
      "outputs": []
    },
    {
      "cell_type": "code",
      "metadata": {
        "id": "_oPYLRhgXYOi",
        "colab_type": "code",
        "colab": {}
      },
      "source": [
        "products_reviewed_df.write.jdbc(url=jdbc_url, table=\"products\", mode=mode, properties=config)"
      ],
      "execution_count": 0,
      "outputs": []
    }
  ]
}