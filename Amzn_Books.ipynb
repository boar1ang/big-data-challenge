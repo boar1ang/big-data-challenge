{
  "nbformat": 4,
  "nbformat_minor": 0,
  "metadata": {
    "colab": {
      "name": "Amzn_Books.ipynb",
      "provenance": [],
      "collapsed_sections": [],
      "authorship_tag": "ABX9TyNszUQ5+CdJC4LhvoVjk2zj",
      "include_colab_link": true
    },
    "kernelspec": {
      "name": "python3",
      "display_name": "Python 3"
    }
  },
  "cells": [
    {
      "cell_type": "markdown",
      "metadata": {
        "id": "view-in-github",
        "colab_type": "text"
      },
      "source": [
        "<a href=\"https://colab.research.google.com/github/boar1ang/big-data-challenge/blob/master/Amzn_Books.ipynb\" target=\"_parent\"><img src=\"https://colab.research.google.com/assets/colab-badge.svg\" alt=\"Open In Colab\"/></a>"
      ]
    },
    {
      "cell_type": "code",
      "metadata": {
        "id": "nSh4jzI6mbk-",
        "colab_type": "code",
        "colab": {}
      },
      "source": [
        "# Install Java, Spark, and Findspark\n",
        "!apt-get install openjdk-8-jdk-headless -qq > /dev/null\n",
        "!wget -q http://www-us.apache.org/dist/spark/spark-2.4.5/spark-2.4.5-bin-hadoop2.7.tgz\n",
        "!tar xf spark-2.4.5-bin-hadoop2.7.tgz\n",
        "!pip install -q findspark\n",
        "\n",
        "# Set Environment Variables\n",
        "import os\n",
        "os.environ[\"JAVA_HOME\"] = \"/usr/lib/jvm/java-8-openjdk-amd64\"\n",
        "os.environ[\"SPARK_HOME\"] = \"/content/spark-2.4.5-bin-hadoop2.7\"\n",
        "\n",
        "# Start a SparkSession\n",
        "import findspark\n",
        "findspark.init()\n"
      ],
      "execution_count": 0,
      "outputs": []
    },
    {
      "cell_type": "code",
      "metadata": {
        "id": "LdJGHEn9Vfpe",
        "colab_type": "code",
        "outputId": "26b9dc7d-d083-44d3-a902-e33814bb3053",
        "colab": {
          "base_uri": "https://localhost:8080/",
          "height": 202
        }
      },
      "source": [
        "!wget https://jdbc.postgresql.org/download/postgresql-42.2.9.jar"
      ],
      "execution_count": 2,
      "outputs": [
        {
          "output_type": "stream",
          "text": [
            "--2020-05-15 23:14:12--  https://jdbc.postgresql.org/download/postgresql-42.2.9.jar\n",
            "Resolving jdbc.postgresql.org (jdbc.postgresql.org)... 72.32.157.228, 2001:4800:3e1:1::228\n",
            "Connecting to jdbc.postgresql.org (jdbc.postgresql.org)|72.32.157.228|:443... connected.\n",
            "HTTP request sent, awaiting response... 200 OK\n",
            "Length: 914037 (893K) [application/java-archive]\n",
            "Saving to: ‘postgresql-42.2.9.jar’\n",
            "\n",
            "postgresql-42.2.9.j 100%[===================>] 892.61K  1.05MB/s    in 0.8s    \n",
            "\n",
            "2020-05-15 23:14:14 (1.05 MB/s) - ‘postgresql-42.2.9.jar’ saved [914037/914037]\n",
            "\n"
          ],
          "name": "stdout"
        }
      ]
    },
    {
      "cell_type": "code",
      "metadata": {
        "id": "iykq8XD8gFOQ",
        "colab_type": "code",
        "colab": {}
      },
      "source": [
        "# Start Spark session\n",
        "from pyspark.sql import SparkSession\n",
        "spark = SparkSession.builder.appName(\"Amzn_Books\").config(\"spark.driver.extraClassPath\",\"/content/postgresql-42.2.9.jar\").getOrCreate()\n"
      ],
      "execution_count": 0,
      "outputs": []
    },
    {
      "cell_type": "code",
      "metadata": {
        "id": "1myv8_aZnQ3Q",
        "colab_type": "code",
        "outputId": "d1d999aa-5e0b-42ca-b353-81cc2b4d8d14",
        "colab": {
          "base_uri": "https://localhost:8080/",
          "height": 222
        }
      },
      "source": [
        "# Read in data from S3 Buckets\n",
        "from pyspark import SparkFiles, SQLContext\n",
        "url =\"https://s3.amazonaws.com/amazon-reviews-pds/tsv/amazon_reviews_us_Books_v1_00.tsv.gz\"\n",
        "spark.sparkContext.addFile(url)\n",
        "books_df = spark.read.csv(SparkFiles.get(\"amazon_reviews_us_Books_v1_00.tsv.gz\"), sep=\"\\t\", header=True)\n",
        "\n",
        "\n",
        "# Show DataFrame\n",
        "books_df.show(5)"
      ],
      "execution_count": 4,
      "outputs": [
        {
          "output_type": "stream",
          "text": [
            "+-----------+-----------+--------------+----------+--------------+--------------------+----------------+-----------+-------------+-----------+----+-----------------+--------------------+--------------------+-----------+\n",
            "|marketplace|customer_id|     review_id|product_id|product_parent|       product_title|product_category|star_rating|helpful_votes|total_votes|vine|verified_purchase|     review_headline|         review_body|review_date|\n",
            "+-----------+-----------+--------------+----------+--------------+--------------------+----------------+-----------+-------------+-----------+----+-----------------+--------------------+--------------------+-----------+\n",
            "|         US|   25933450| RJOVP071AVAJO|0439873800|      84656342|There Was an Old ...|           Books|          5|            0|          0|   N|                Y|          Five Stars|I love it and so ...| 2015-08-31|\n",
            "|         US|    1801372|R1ORGBETCDW3AI|1623953553|     729938122|      I Saw a Friend|           Books|          5|            0|          0|   N|                Y|Please buy \"I Saw...|My wife and I ord...| 2015-08-31|\n",
            "|         US|    5782091| R7TNRFQAOUTX5|142151981X|     678139048|Black Lagoon, Vol. 6|           Books|          5|            0|          0|   N|                Y|       Shipped fast.|Great book just l...| 2015-08-31|\n",
            "|         US|   32715830|R2GANXKDIFZ6OI|014241543X|     712432151|           If I Stay|           Books|          5|            0|          0|   N|                N|          Five Stars|        So beautiful| 2015-08-31|\n",
            "|         US|   14005703|R2NYB6C3R8LVN6|1604600527|     800572372|Stars 'N Strips F...|           Books|          5|            2|          2|   N|                Y|          Five Stars|Enjoyed the autho...| 2015-08-31|\n",
            "+-----------+-----------+--------------+----------+--------------+--------------------+----------------+-----------+-------------+-----------+----+-----------------+--------------------+--------------------+-----------+\n",
            "only showing top 5 rows\n",
            "\n"
          ],
          "name": "stdout"
        }
      ]
    },
    {
      "cell_type": "markdown",
      "metadata": {
        "id": "1b9-WhlnSDDp",
        "colab_type": "text"
      },
      "source": [
        "Count & clean up"
      ]
    },
    {
      "cell_type": "code",
      "metadata": {
        "id": "NRNg6jlalIBO",
        "colab_type": "code",
        "outputId": "0b086fb8-8d72-4a12-fcea-892b402a8167",
        "colab": {
          "base_uri": "https://localhost:8080/",
          "height": 67
        }
      },
      "source": [
        "print(books_df.count())\n",
        "books_df = books_df.dropna()\n",
        "print(books_df.count())\n",
        "books_df = books_df.dropDuplicates()\n",
        "print(books_df.count())"
      ],
      "execution_count": 5,
      "outputs": [
        {
          "output_type": "stream",
          "text": [
            "10319090\n",
            "10316622\n",
            "10316622\n"
          ],
          "name": "stdout"
        }
      ]
    },
    {
      "cell_type": "markdown",
      "metadata": {
        "id": "nDeqORDxSIqg",
        "colab_type": "text"
      },
      "source": [
        "Reduce DataFrame by dropping unnecessary columns & splitting 'review' data off from 'product' data"
      ]
    },
    {
      "cell_type": "code",
      "metadata": {
        "id": "r_8BMfbllfmi",
        "colab_type": "code",
        "outputId": "4524e366-9917-4ead-8c60-98b4463e2e1f",
        "colab": {
          "base_uri": "https://localhost:8080/",
          "height": 222
        }
      },
      "source": [
        "# Load sql column function\n",
        "from pyspark.sql.functions import col\n",
        "\n",
        "# Filter for only verified purchases\n",
        "books_df = books_df.filter(col(\"verified_purchase\")  == 'Y')\n",
        "books_df.show(5)"
      ],
      "execution_count": 6,
      "outputs": [
        {
          "output_type": "stream",
          "text": [
            "+-----------+-----------+--------------+----------+--------------+--------------------+----------------+-----------+-------------+-----------+----+-----------------+--------------------+--------------------+-----------+\n",
            "|marketplace|customer_id|     review_id|product_id|product_parent|       product_title|product_category|star_rating|helpful_votes|total_votes|vine|verified_purchase|     review_headline|         review_body|review_date|\n",
            "+-----------+-----------+--------------+----------+--------------+--------------------+----------------+-----------+-------------+-----------+----+-----------------+--------------------+--------------------+-----------+\n",
            "|         US|   35531538|R10086W0U9OHY1|1421695103|     828616333|Basset Hound Pupp...|           Books|          5|            0|          0|   N|                Y| A true Basset lover|For the seventh y...| 2012-12-28|\n",
            "|         US|   18451121|R100OI6P955T8N|0764585924|     843831426|CliffsNotes on Sh...|           Books|          5|            1|          1|   N|                Y|         Well Needed|These notes were ...| 2014-05-12|\n",
            "|         US|   27809831|R100QVQSCIC23H|1450252001|     483095575|For the Tsar and ...|           Books|          3|            0|          0|   N|                Y| Interesting Story..|Have always been ...| 2014-02-11|\n",
            "|         US|   13544187|R100REDE8CZG1Z|0955176247|     348681061|Awake in the Hear...|           Books|          5|            2|          3|   N|                Y|\"My\" standard review|The relative stor...| 2013-06-20|\n",
            "|         US|   38788167|R100U5WN59IKMO|1561706124|     436984722|Power Thought Car...|           Books|          5|            1|          1|   N|                Y|          Great Deal|I love Louise Hay...| 2015-07-03|\n",
            "+-----------+-----------+--------------+----------+--------------+--------------------+----------------+-----------+-------------+-----------+----+-----------------+--------------------+--------------------+-----------+\n",
            "only showing top 5 rows\n",
            "\n"
          ],
          "name": "stdout"
        }
      ]
    },
    {
      "cell_type": "code",
      "metadata": {
        "id": "RTEc7pJ5njqb",
        "colab_type": "code",
        "colab": {
          "base_uri": "https://localhost:8080/",
          "height": 34
        },
        "outputId": "cb00d1eb-2318-4309-dd9f-a6aa6712472c"
      },
      "source": [
        "print(books_df.count())"
      ],
      "execution_count": 7,
      "outputs": [
        {
          "output_type": "stream",
          "text": [
            "7449299\n"
          ],
          "name": "stdout"
        }
      ]
    },
    {
      "cell_type": "markdown",
      "metadata": {
        "id": "f0paFIxof2PI",
        "colab_type": "text"
      },
      "source": [
        "Cleaning and stripping off unverified purchase reviews resulted in 2,869,791 fewer rows."
      ]
    },
    {
      "cell_type": "code",
      "metadata": {
        "id": "beJNH9KQmKU1",
        "colab_type": "code",
        "outputId": "e8302ce0-1321-426d-f7dd-85fc8d32688f",
        "colab": {
          "base_uri": "https://localhost:8080/",
          "height": 222
        }
      },
      "source": [
        "ver_BookReviews_df = books_df.select([\"customer_id\", \"review_id\", \"product_id\", \"product_parent\", \"product_title\", \"product_category\", \"star_rating\", \"helpful_votes\", \"total_votes\", \"vine\", \"review_headline\", \"review_body\", \"review_date\" ])\n",
        "ver_BookReviews_df.show(5)"
      ],
      "execution_count": 8,
      "outputs": [
        {
          "output_type": "stream",
          "text": [
            "+-----------+--------------+----------+--------------+--------------------+----------------+-----------+-------------+-----------+----+--------------------+--------------------+-----------+\n",
            "|customer_id|     review_id|product_id|product_parent|       product_title|product_category|star_rating|helpful_votes|total_votes|vine|     review_headline|         review_body|review_date|\n",
            "+-----------+--------------+----------+--------------+--------------------+----------------+-----------+-------------+-----------+----+--------------------+--------------------+-----------+\n",
            "|   35531538|R10086W0U9OHY1|1421695103|     828616333|Basset Hound Pupp...|           Books|          5|            0|          0|   N| A true Basset lover|For the seventh y...| 2012-12-28|\n",
            "|   18451121|R100OI6P955T8N|0764585924|     843831426|CliffsNotes on Sh...|           Books|          5|            1|          1|   N|         Well Needed|These notes were ...| 2014-05-12|\n",
            "|   27809831|R100QVQSCIC23H|1450252001|     483095575|For the Tsar and ...|           Books|          3|            0|          0|   N| Interesting Story..|Have always been ...| 2014-02-11|\n",
            "|   13544187|R100REDE8CZG1Z|0955176247|     348681061|Awake in the Hear...|           Books|          5|            2|          3|   N|\"My\" standard review|The relative stor...| 2013-06-20|\n",
            "|   38788167|R100U5WN59IKMO|1561706124|     436984722|Power Thought Car...|           Books|          5|            1|          1|   N|          Great Deal|I love Louise Hay...| 2015-07-03|\n",
            "+-----------+--------------+----------+--------------+--------------------+----------------+-----------+-------------+-----------+----+--------------------+--------------------+-----------+\n",
            "only showing top 5 rows\n",
            "\n"
          ],
          "name": "stdout"
        }
      ]
    },
    {
      "cell_type": "code",
      "metadata": {
        "id": "3ao4Nefxmgjj",
        "colab_type": "code",
        "outputId": "62a9c3c4-061d-4a2d-ffce-bb663007d6ec",
        "colab": {
          "base_uri": "https://localhost:8080/",
          "height": 34
        }
      },
      "source": [
        "ver_BookReviews_df.count()"
      ],
      "execution_count": 9,
      "outputs": [
        {
          "output_type": "execute_result",
          "data": {
            "text/plain": [
              "7449299"
            ]
          },
          "metadata": {
            "tags": []
          },
          "execution_count": 9
        }
      ]
    },
    {
      "cell_type": "markdown",
      "metadata": {
        "id": "kmo5kaNfRsSu",
        "colab_type": "text"
      },
      "source": [
        "Create 'ver_reviews_df' to match 'reviews' table in Postgres database"
      ]
    },
    {
      "cell_type": "code",
      "metadata": {
        "id": "TARoZFZgREy4",
        "colab_type": "code",
        "outputId": "527de122-fa14-4f34-b8ab-335e8fa11d5a",
        "colab": {
          "base_uri": "https://localhost:8080/",
          "height": 202
        }
      },
      "source": [
        "ver_reviews_df = ver_BookReviews_df.select([\"review_id\", \"star_rating\", \"helpful_votes\", \"total_votes\", \"vine\", \"review_headline\", \"review_body\", \"review_date\", \"customer_id\"])\n",
        "ver_reviews_df.show(5)"
      ],
      "execution_count": 10,
      "outputs": [
        {
          "output_type": "stream",
          "text": [
            "+--------------+-----------+-------------+-----------+----+--------------------+--------------------+-----------+-----------+\n",
            "|     review_id|star_rating|helpful_votes|total_votes|vine|     review_headline|         review_body|review_date|customer_id|\n",
            "+--------------+-----------+-------------+-----------+----+--------------------+--------------------+-----------+-----------+\n",
            "|R10086W0U9OHY1|          5|            0|          0|   N| A true Basset lover|For the seventh y...| 2012-12-28|   35531538|\n",
            "|R100OI6P955T8N|          5|            1|          1|   N|         Well Needed|These notes were ...| 2014-05-12|   18451121|\n",
            "|R100QVQSCIC23H|          3|            0|          0|   N| Interesting Story..|Have always been ...| 2014-02-11|   27809831|\n",
            "|R100REDE8CZG1Z|          5|            2|          3|   N|\"My\" standard review|The relative stor...| 2013-06-20|   13544187|\n",
            "|R100U5WN59IKMO|          5|            1|          1|   N|          Great Deal|I love Louise Hay...| 2015-07-03|   38788167|\n",
            "+--------------+-----------+-------------+-----------+----+--------------------+--------------------+-----------+-----------+\n",
            "only showing top 5 rows\n",
            "\n"
          ],
          "name": "stdout"
        }
      ]
    },
    {
      "cell_type": "code",
      "metadata": {
        "id": "j4YRt0M6R6SW",
        "colab_type": "code",
        "outputId": "ffb8a758-89d8-406e-d020-12cafa9103c5",
        "colab": {
          "base_uri": "https://localhost:8080/",
          "height": 202
        }
      },
      "source": [
        "products_reviewed_df = ver_BookReviews_df.select([\"product_id\", \"product_parent\", \"product_title\", \"product_category\", \"review_id\"])\n",
        "products_reviewed_df.show(5)"
      ],
      "execution_count": 11,
      "outputs": [
        {
          "output_type": "stream",
          "text": [
            "+----------+--------------+--------------------+----------------+--------------+\n",
            "|product_id|product_parent|       product_title|product_category|     review_id|\n",
            "+----------+--------------+--------------------+----------------+--------------+\n",
            "|1421695103|     828616333|Basset Hound Pupp...|           Books|R10086W0U9OHY1|\n",
            "|0764585924|     843831426|CliffsNotes on Sh...|           Books|R100OI6P955T8N|\n",
            "|1450252001|     483095575|For the Tsar and ...|           Books|R100QVQSCIC23H|\n",
            "|0955176247|     348681061|Awake in the Hear...|           Books|R100REDE8CZG1Z|\n",
            "|1561706124|     436984722|Power Thought Car...|           Books|R100U5WN59IKMO|\n",
            "+----------+--------------+--------------------+----------------+--------------+\n",
            "only showing top 5 rows\n",
            "\n"
          ],
          "name": "stdout"
        }
      ]
    },
    {
      "cell_type": "code",
      "metadata": {
        "id": "tfO2ztb3cy0a",
        "colab_type": "code",
        "outputId": "0499815f-c93f-4e5c-e6db-880c4a938483",
        "colab": {
          "base_uri": "https://localhost:8080/",
          "height": 34
        }
      },
      "source": [
        "from pyspark.sql.functions import countDistinct\n",
        "unique_books = products_reviewed_df.agg(countDistinct(\"product_id\")).collect()\n",
        "unique_books"
      ],
      "execution_count": 12,
      "outputs": [
        {
          "output_type": "execute_result",
          "data": {
            "text/plain": [
              "[Row(count(DISTINCT product_id)=1833795)]"
            ]
          },
          "metadata": {
            "tags": []
          },
          "execution_count": 12
        }
      ]
    },
    {
      "cell_type": "markdown",
      "metadata": {
        "id": "1p_1VcJ_0FSG",
        "colab_type": "text"
      },
      "source": [
        "Count of unique books reviewed = 1,833,795"
      ]
    },
    {
      "cell_type": "markdown",
      "metadata": {
        "id": "SqJp449fQEDK",
        "colab_type": "text"
      },
      "source": [
        "Postgres Setup & RDS Configuration"
      ]
    },
    {
      "cell_type": "code",
      "metadata": {
        "id": "A9h0XN8CQBrp",
        "colab_type": "code",
        "colab": {}
      },
      "source": [
        "mode = \"append\"\n",
        "jdbc_url = \"jdbc:postgresql://myaws-postgres.cg43u4ybmrtw.us-east-1.rds.amazonaws.com:5432/my_amzn_reviews_db\"\n",
        "config = {\n",
        "    \"user\":\"root\",\n",
        "    \"password\":\"\",\n",
        "    \"driver\":\"org.postgresql.Driver\"\n",
        "}"
      ],
      "execution_count": 0,
      "outputs": []
    },
    {
      "cell_type": "markdown",
      "metadata": {
        "id": "9IyDa90kSdZy",
        "colab_type": "text"
      },
      "source": [
        "Write dataframes to target tables in my_amzn_reviews_db\n"
      ]
    },
    {
      "cell_type": "code",
      "metadata": {
        "id": "HYohw92jSkv1",
        "colab_type": "code",
        "colab": {}
      },
      "source": [
        "ver_reviews_df.write.jdbc(url=jdbc_url, table=\"reviews\", mode=mode, properties=config)"
      ],
      "execution_count": 0,
      "outputs": []
    },
    {
      "cell_type": "code",
      "metadata": {
        "id": "7XY0vFLcTBcK",
        "colab_type": "code",
        "colab": {}
      },
      "source": [
        "products_reviewed_df.write.jdbc(url=jdbc_url, table=\"products\", mode=mode, properties=config)"
      ],
      "execution_count": 0,
      "outputs": []
    }
  ]
}