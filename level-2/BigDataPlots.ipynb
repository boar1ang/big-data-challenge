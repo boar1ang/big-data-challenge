{
 "cells": [
  {
   "cell_type": "code",
   "execution_count": 1,
   "metadata": {},
   "outputs": [],
   "source": [
    "import pandas as pd\n",
    "import os\n",
    "import csv\n",
    "import matplotlib as mpl\n",
    "import matplotlib.pyplot as plt"
   ]
  },
  {
   "cell_type": "code",
   "execution_count": 2,
   "metadata": {},
   "outputs": [],
   "source": [
    "data1 = \"ops_dist.csv\"\n",
    "data2 = \"bk_dist.csv\"\n",
    "data3 = \"vine.csv\""
   ]
  },
  {
   "cell_type": "code",
   "execution_count": 3,
   "metadata": {},
   "outputs": [
    {
     "data": {
      "text/plain": [
       "<bound method NDFrame.head of    star_rating  office_prod_ratings\n",
       "0            1               101726\n",
       "1            2                42435\n",
       "2            3                55027\n",
       "3            4               101246\n",
       "4            5               339565>"
      ]
     },
     "execution_count": 3,
     "metadata": {},
     "output_type": "execute_result"
    }
   ],
   "source": [
    "df = pd.read_csv(data1)\n",
    "df.head"
   ]
  },
  {
   "cell_type": "code",
   "execution_count": 4,
   "metadata": {},
   "outputs": [
    {
     "data": {
      "text/html": [
       "<div>\n",
       "<style scoped>\n",
       "    .dataframe tbody tr th:only-of-type {\n",
       "        vertical-align: middle;\n",
       "    }\n",
       "\n",
       "    .dataframe tbody tr th {\n",
       "        vertical-align: top;\n",
       "    }\n",
       "\n",
       "    .dataframe thead th {\n",
       "        text-align: right;\n",
       "    }\n",
       "</style>\n",
       "<table border=\"1\" class=\"dataframe\">\n",
       "  <thead>\n",
       "    <tr style=\"text-align: right;\">\n",
       "      <th></th>\n",
       "      <th>star_rating</th>\n",
       "      <th>book_ratings</th>\n",
       "    </tr>\n",
       "  </thead>\n",
       "  <tbody>\n",
       "    <tr>\n",
       "      <th>0</th>\n",
       "      <td>1</td>\n",
       "      <td>139933</td>\n",
       "    </tr>\n",
       "    <tr>\n",
       "      <th>1</th>\n",
       "      <td>2</td>\n",
       "      <td>119024</td>\n",
       "    </tr>\n",
       "    <tr>\n",
       "      <th>2</th>\n",
       "      <td>3</td>\n",
       "      <td>190799</td>\n",
       "    </tr>\n",
       "    <tr>\n",
       "      <th>3</th>\n",
       "      <td>4</td>\n",
       "      <td>350005</td>\n",
       "    </tr>\n",
       "    <tr>\n",
       "      <th>4</th>\n",
       "      <td>5</td>\n",
       "      <td>1707525</td>\n",
       "    </tr>\n",
       "  </tbody>\n",
       "</table>\n",
       "</div>"
      ],
      "text/plain": [
       "   star_rating  book_ratings\n",
       "0            1        139933\n",
       "1            2        119024\n",
       "2            3        190799\n",
       "3            4        350005\n",
       "4            5       1707525"
      ]
     },
     "execution_count": 4,
     "metadata": {},
     "output_type": "execute_result"
    }
   ],
   "source": [
    "df2=pd.read_csv(data2)\n",
    "df2.head()"
   ]
  },
  {
   "cell_type": "code",
   "execution_count": 5,
   "metadata": {},
   "outputs": [
    {
     "data": {
      "text/html": [
       "<div>\n",
       "<style scoped>\n",
       "    .dataframe tbody tr th:only-of-type {\n",
       "        vertical-align: middle;\n",
       "    }\n",
       "\n",
       "    .dataframe tbody tr th {\n",
       "        vertical-align: top;\n",
       "    }\n",
       "\n",
       "    .dataframe thead th {\n",
       "        text-align: right;\n",
       "    }\n",
       "</style>\n",
       "<table border=\"1\" class=\"dataframe\">\n",
       "  <thead>\n",
       "    <tr style=\"text-align: right;\">\n",
       "      <th></th>\n",
       "      <th>star_rating</th>\n",
       "      <th>vine_ratings</th>\n",
       "    </tr>\n",
       "  </thead>\n",
       "  <tbody>\n",
       "    <tr>\n",
       "      <th>0</th>\n",
       "      <td>1</td>\n",
       "      <td>12</td>\n",
       "    </tr>\n",
       "    <tr>\n",
       "      <th>1</th>\n",
       "      <td>2</td>\n",
       "      <td>32</td>\n",
       "    </tr>\n",
       "    <tr>\n",
       "      <th>2</th>\n",
       "      <td>3</td>\n",
       "      <td>88</td>\n",
       "    </tr>\n",
       "    <tr>\n",
       "      <th>3</th>\n",
       "      <td>4</td>\n",
       "      <td>208</td>\n",
       "    </tr>\n",
       "    <tr>\n",
       "      <th>4</th>\n",
       "      <td>5</td>\n",
       "      <td>352</td>\n",
       "    </tr>\n",
       "  </tbody>\n",
       "</table>\n",
       "</div>"
      ],
      "text/plain": [
       "   star_rating  vine_ratings\n",
       "0            1            12\n",
       "1            2            32\n",
       "2            3            88\n",
       "3            4           208\n",
       "4            5           352"
      ]
     },
     "execution_count": 5,
     "metadata": {},
     "output_type": "execute_result"
    }
   ],
   "source": [
    "df3 = pd.read_csv(data3)\n",
    "df3.head()"
   ]
  },
  {
   "cell_type": "code",
   "execution_count": 6,
   "metadata": {},
   "outputs": [
    {
     "data": {
      "text/plain": [
       "star_rating            int64\n",
       "office_prod_ratings    int64\n",
       "dtype: object"
      ]
     },
     "execution_count": 6,
     "metadata": {},
     "output_type": "execute_result"
    }
   ],
   "source": [
    "df.dtypes"
   ]
  },
  {
   "cell_type": "code",
   "execution_count": 7,
   "metadata": {},
   "outputs": [
    {
     "data": {
      "text/plain": [
       "star_rating     int64\n",
       "book_ratings    int64\n",
       "dtype: object"
      ]
     },
     "execution_count": 7,
     "metadata": {},
     "output_type": "execute_result"
    }
   ],
   "source": [
    "df2.dtypes"
   ]
  },
  {
   "cell_type": "code",
   "execution_count": 8,
   "metadata": {},
   "outputs": [
    {
     "data": {
      "text/plain": [
       "star_rating     int64\n",
       "vine_ratings    int64\n",
       "dtype: object"
      ]
     },
     "execution_count": 8,
     "metadata": {},
     "output_type": "execute_result"
    }
   ],
   "source": [
    "df3.dtypes"
   ]
  },
  {
   "cell_type": "code",
   "execution_count": 9,
   "metadata": {},
   "outputs": [],
   "source": [
    "df['star_rating'] = df['star_rating'].astype(str)\n",
    "df2['star_rating'] = df2['star_rating'].astype(str)\n",
    "df3['star_rating'] = df3['star_rating'].astype(str)"
   ]
  },
  {
   "cell_type": "code",
   "execution_count": 10,
   "metadata": {},
   "outputs": [
    {
     "data": {
      "text/plain": [
       "639999"
      ]
     },
     "execution_count": 10,
     "metadata": {},
     "output_type": "execute_result"
    }
   ],
   "source": [
    "total_stars_ops = df['office_prod_ratings'].sum()\n",
    "total_stars_ops"
   ]
  },
  {
   "cell_type": "code",
   "execution_count": 11,
   "metadata": {},
   "outputs": [
    {
     "data": {
      "text/plain": [
       "2507286"
      ]
     },
     "execution_count": 11,
     "metadata": {},
     "output_type": "execute_result"
    }
   ],
   "source": [
    "total_stars_bks = df2['book_ratings'].sum()\n",
    "total_stars_bks"
   ]
  },
  {
   "cell_type": "code",
   "execution_count": 12,
   "metadata": {},
   "outputs": [
    {
     "data": {
      "text/plain": [
       "692"
      ]
     },
     "execution_count": 12,
     "metadata": {},
     "output_type": "execute_result"
    }
   ],
   "source": [
    "total_stars_vines = df3['vine_ratings'].sum()\n",
    "total_stars_vines"
   ]
  },
  {
   "cell_type": "code",
   "execution_count": 13,
   "metadata": {},
   "outputs": [
    {
     "name": "stdout",
     "output_type": "stream",
     "text": [
      "['15.9%', '6.6%', '8.6%', '15.8%', '53.1%']\n"
     ]
    }
   ],
   "source": [
    "stars = [1, 2, 3, 4, 5]\n",
    "list = []\n",
    "for i in range (len(df)):\n",
    "    percent_of_total = (df['office_prod_ratings'][i] /total_stars_ops) * 100\n",
    "    percent_of_total = round(percent_of_total, 1)\n",
    "    percent_of_total = str(percent_of_total)\n",
    "    percent_of_total = (percent_of_total + '%')\n",
    "    list.append(percent_of_total)\n",
    "    i = i+1\n",
    "print(list)"
   ]
  },
  {
   "cell_type": "code",
   "execution_count": 14,
   "metadata": {},
   "outputs": [
    {
     "name": "stdout",
     "output_type": "stream",
     "text": [
      "['5.6%', '4.7%', '7.6%', '14.0%', '68.1%']\n"
     ]
    }
   ],
   "source": [
    "stars2 = [1, 2, 3, 4, 5]\n",
    "list2 = []\n",
    "for i in range (len(df2)):\n",
    "    percent_of_total = (df2['book_ratings'][i] /total_stars_bks) * 100\n",
    "    percent_of_total = round(percent_of_total, 1)\n",
    "    percent_of_total = str(percent_of_total)\n",
    "    percent_of_total = (percent_of_total + '%')\n",
    "    list2.append(percent_of_total)\n",
    "    i = i+1\n",
    "print(list2)"
   ]
  },
  {
   "cell_type": "code",
   "execution_count": 15,
   "metadata": {},
   "outputs": [
    {
     "name": "stdout",
     "output_type": "stream",
     "text": [
      "['1.7%', '4.6%', '12.7%', '30.1%', '50.9%']\n"
     ]
    }
   ],
   "source": [
    "stars3 = [1, 2, 3, 4, 5]\n",
    "list3 = []\n",
    "for i in range (len(df3)):\n",
    "    percent_of_total = (df3['vine_ratings'][i] /total_stars_vines) * 100\n",
    "    percent_of_total = round(percent_of_total, 1)\n",
    "    percent_of_total = str(percent_of_total)\n",
    "    percent_of_total = (percent_of_total + '%')\n",
    "    list3.append(percent_of_total)\n",
    "    i = i+1\n",
    "print(list3)"
   ]
  },
  {
   "cell_type": "code",
   "execution_count": 16,
   "metadata": {},
   "outputs": [
    {
     "data": {
      "image/png": "[encoded data removed]",
      "text/plain": [
       "<Figure size 432x288 with 1 Axes>"
      ]
     },
     "metadata": {
      "needs_background": "light"
     },
     "output_type": "display_data"
    }
   ],
   "source": [
    "%matplotlib inline\n",
    "x = df['star_rating']\n",
    "y = df[\"office_prod_ratings\"]\n",
    "bar_labels = list\n",
    "color_array = ['#e6ebfa', '#b3c2f0', '#8099e6', '#4D70db', '#1a47d1']\n",
    "fig, ax = plt.subplots()\n",
    "bar_plot = plt.bar(x, y, color = color_array, edgecolor=\"yellowgreen\")\n",
    "def autolabel(rects):\n",
    "    for idx, rect in enumerate(bar_plot):\n",
    "        height = rect.get_height()\n",
    "        ax.text(rect.get_x() + rect.get_width()/2., 1.05*height, bar_labels[idx], ha='center', va='bottom', rotation=0)\n",
    "autolabel(bar_plot)\n",
    "plt.title(\"Distribution of Star Ratings & %Total Reviews, for Office Products\", fontsize=14)\n",
    "plt.xlabel(\"Star Rating\", fontsize=13)\n",
    "plt.ylabel(\"Count of Product Reviews\", fontsize=12)\n",
    "plt.tight_layout()\n",
    "plt.margins(0.14)\n",
    "plt.savefig('OfficeProdRatings.png')\n",
    "plt.show()"
   ]
  },
  {
   "cell_type": "code",
   "execution_count": 17,
   "metadata": {},
   "outputs": [
    {
     "data": {
      "image/png": "[encoded data removed]",
      "text/plain": [
       "<Figure size 432x288 with 1 Axes>"
      ]
     },
     "metadata": {
      "needs_background": "light"
     },
     "output_type": "display_data"
    }
   ],
   "source": [
    "%matplotlib inline\n",
    "x = df2['star_rating']\n",
    "y = df2[\"book_ratings\"]\n",
    "bar_labels = list2\n",
    "colors = ['#f5e6f0', '#e0b3d1', '#d699c2', '#c266a3', '#A31A75']\n",
    "fig, ax = plt.subplots()\n",
    "bar_plot = plt.bar(x, y, color = color_array, edgecolor=\"yellowgreen\")\n",
    "def autolabel(rects):\n",
    "    for idx, rect in enumerate(bar_plot):\n",
    "        height = rect.get_height()\n",
    "        ax.text(rect.get_x() + rect.get_width()/2., 1.05*height, bar_labels[idx], ha='center', va='bottom', rotation=0)\n",
    "autolabel(bar_plot)\n",
    "plt.bar(x, y, color = colors, edgecolor=\"yellowgreen\")\n",
    "plt.title(\"Distribution of Vine Ratings & %Total Reviews for Books\", fontsize=14)\n",
    "plt.xlabel(\"Star Rating\", fontsize=13)\n",
    "plt.ylabel(\"Count of Book Reviews\", fontsize=12)\n",
    "plt.tight_layout()\n",
    "plt.margins(0.14)\n",
    "plt.savefig('BookRatings.png')\n",
    "plt.show()"
   ]
  },
  {
   "cell_type": "code",
   "execution_count": 18,
   "metadata": {},
   "outputs": [
    {
     "data": {
      "image/png": "[encoded data removed]",
      "text/plain": [
       "<Figure size 432x288 with 1 Axes>"
      ]
     },
     "metadata": {
      "needs_background": "light"
     },
     "output_type": "display_data"
    }
   ],
   "source": [
    "%matplotlib inline\n",
    "x = df3['star_rating']\n",
    "y = df3[\"vine_ratings\"]\n",
    "bar_labels = list3\n",
    "color_list = ['#ADC2C2', '#85A3A3', '#709494', '#5C8585', '#336666']\n",
    "fig, ax = plt.subplots()\n",
    "bar_plot = plt.bar(x, y, color = color_array, edgecolor=\"yellowgreen\")\n",
    "def autolabel(rects):\n",
    "    for idx, rect in enumerate(bar_plot):\n",
    "        height = rect.get_height()\n",
    "        ax.text(rect.get_x() + rect.get_width()/2., 1.05*height, bar_labels[idx], ha='center', va='bottom', rotation=0)\n",
    "autolabel(bar_plot)\n",
    "plt.bar(x, y, color = color_list, edgecolor=\"yellowgreen\")\n",
    "plt.title(\"Distribution of Vine Ratings & %Total Ratings\", fontsize=14)\n",
    "plt.xlabel(\"Star Rating\", fontsize=13)\n",
    "plt.ylabel(\"Count of Vine Reviews\", fontsize=12)\n",
    "plt.tight_layout()\n",
    "plt.margins(0.14)\n",
    "plt.savefig('VineRatings.png')\n",
    "plt.show()"
   ]
  },
  {
   "cell_type": "code",
   "execution_count": null,
   "metadata": {},
   "outputs": [],
   "source": []
  },
  {
   "cell_type": "code",
   "execution_count": null,
   "metadata": {},
   "outputs": [],
   "source": []
  }
 ],
 "metadata": {
  "kernelspec": {
   "display_name": "Python 3",
   "language": "python",
   "name": "python3"
  },
  "language_info": {
   "codemirror_mode": {
    "name": "ipython",
    "version": 3
   },
   "file_extension": ".py",
   "mimetype": "text/x-python",
   "name": "python",
   "nbconvert_exporter": "python",
   "pygments_lexer": "ipython3",
   "version": "3.6.9"
  }
 },
 "nbformat": 4,
 "nbformat_minor": 2
}
